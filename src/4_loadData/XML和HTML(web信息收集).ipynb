{
 "cells": [
  {
   "cell_type": "code",
   "execution_count": 1,
   "metadata": {
    "collapsed": true
   },
   "outputs": [],
   "source": [
    "from pandas import Series, DataFrame\n",
    "import pandas as pd\n",
    "import numpy as np\n",
    "import csv\n",
    "import json\n",
    "from lxml.html import parse\n",
    "from urllib.request import urlopen"
   ]
  },
  {
   "cell_type": "markdown",
   "metadata": {},
   "source": [
    "### python有许多可以读写HTML和xml格式数据的库.lxml就是其中之一,它能高效且可靠的解析大文件.lxml多个编程接口.首先需要用lxml.html处理HTML,再用lxml.objectify做一些XML处理"
   ]
  },
  {
   "cell_type": "code",
   "execution_count": 2,
   "metadata": {
    "collapsed": true
   },
   "outputs": [],
   "source": [
    "parsed = parse(urlopen('http://finance.yahoo.com/q/op?s=AAPL+Options'))\n",
    "doc = parsed.getroot()"
   ]
  },
  {
   "cell_type": "markdown",
   "metadata": {},
   "source": [
    "### 通过这个对象,可以获取特定类型的所有HTML标签,比如含有所需数据的table标签."
   ]
  },
  {
   "cell_type": "code",
   "execution_count": 3,
   "metadata": {
    "collapsed": false
   },
   "outputs": [
    {
     "data": {
      "text/plain": [
       "[<Element a at 0x1d7e7b2f9a8>,\n",
       " <Element a at 0x1d7e7b2f9f8>,\n",
       " <Element a at 0x1d7e7b2fa48>,\n",
       " <Element a at 0x1d7e7b2fa98>,\n",
       " <Element a at 0x1d7e7b2fae8>]"
      ]
     },
     "execution_count": 3,
     "metadata": {},
     "output_type": "execute_result"
    }
   ],
   "source": [
    "links = doc.findall('.//a')\n",
    "links[15:20]"
   ]
  },
  {
   "cell_type": "markdown",
   "metadata": {},
   "source": [
    "### 以上获取的是表示HTML元素的对象.要得到URL和链接文本,必须使用各对象的get方法(针对URL)和text_content方法(针对显示文本)"
   ]
  },
  {
   "cell_type": "code",
   "execution_count": 4,
   "metadata": {
    "collapsed": false
   },
   "outputs": [
    {
     "data": {
      "text/plain": [
       "<Element a at 0x1d7e7b2fdb8>"
      ]
     },
     "execution_count": 4,
     "metadata": {},
     "output_type": "execute_result"
    }
   ],
   "source": [
    "lnk = links[28]\n",
    "lnk"
   ]
  },
  {
   "cell_type": "code",
   "execution_count": 5,
   "metadata": {
    "collapsed": false
   },
   "outputs": [
    {
     "data": {
      "text/plain": [
       "'/quote/AAPL/options?strike=false&straddle=false'"
      ]
     },
     "execution_count": 5,
     "metadata": {},
     "output_type": "execute_result"
    }
   ],
   "source": [
    "lnk.get('href')"
   ]
  },
  {
   "cell_type": "code",
   "execution_count": 6,
   "metadata": {
    "collapsed": false
   },
   "outputs": [
    {
     "data": {
      "text/plain": [
       "'40.00'"
      ]
     },
     "execution_count": 6,
     "metadata": {},
     "output_type": "execute_result"
    }
   ],
   "source": [
    "lnk.text_content()"
   ]
  },
  {
   "cell_type": "markdown",
   "metadata": {},
   "source": [
    "### 通过列表推导式获取全部的URL"
   ]
  },
  {
   "cell_type": "code",
   "execution_count": 7,
   "metadata": {
    "collapsed": false
   },
   "outputs": [
    {
     "data": {
      "text/plain": [
       "['/',\n",
       " '/watchlists',\n",
       " '/portfolios?bypass=true',\n",
       " '/screener',\n",
       " '/calendar',\n",
       " '/industries',\n",
       " '/personal-finance',\n",
       " '/tech',\n",
       " '/topic/yahoo-finance-podcast',\n",
       " '/live/facebook']"
      ]
     },
     "execution_count": 7,
     "metadata": {},
     "output_type": "execute_result"
    }
   ],
   "source": [
    "urls = [lnk.get('href') for lnk in doc.findall('.//a')]\n",
    "urls[-10:]"
   ]
  },
  {
   "cell_type": "markdown",
   "metadata": {},
   "source": [
    "### 从文档中找出正确表格的办法就是反复实验.有些网站会给目标表格加上一个ID属性"
   ]
  },
  {
   "cell_type": "code",
   "execution_count": 9,
   "metadata": {
    "collapsed": false
   },
   "outputs": [
    {
     "data": {
      "text/plain": [
       "[<Element table at 0x1d7e7b2f368>, <Element table at 0x1d7e7b40188>]"
      ]
     },
     "execution_count": 9,
     "metadata": {},
     "output_type": "execute_result"
    }
   ],
   "source": [
    "tables = doc.findall('.//table')\n",
    "tables"
   ]
  },
  {
   "cell_type": "code",
   "execution_count": 10,
   "metadata": {
    "collapsed": false
   },
   "outputs": [
    {
     "data": {
      "text/plain": [
       "<Element table at 0x1d7e7b40188>"
      ]
     },
     "execution_count": 10,
     "metadata": {},
     "output_type": "execute_result"
    }
   ],
   "source": [
    "tables[0]\n",
    "tables[1]"
   ]
  },
  {
   "cell_type": "markdown",
   "metadata": {},
   "source": [
    "### 每个表格都一个标题行,然后才是数据行"
   ]
  },
  {
   "cell_type": "code",
   "execution_count": 11,
   "metadata": {
    "collapsed": false
   },
   "outputs": [
    {
     "data": {
      "text/plain": [
       "[<Element tr at 0x1d7e50c29f8>,\n",
       " <Element tr at 0x1d7e50c29a8>,\n",
       " <Element tr at 0x1d7e50c27c8>,\n",
       " <Element tr at 0x1d7e50c2908>,\n",
       " <Element tr at 0x1d7e50c2278>,\n",
       " <Element tr at 0x1d7e50c2c78>,\n",
       " <Element tr at 0x1d7e50c2cc8>,\n",
       " <Element tr at 0x1d7e50c2d18>,\n",
       " <Element tr at 0x1d7e50c2d68>,\n",
       " <Element tr at 0x1d7e50c2db8>,\n",
       " <Element tr at 0x1d7e50c2e08>,\n",
       " <Element tr at 0x1d7e50c2e58>,\n",
       " <Element tr at 0x1d7e50c2ea8>,\n",
       " <Element tr at 0x1d7e50c2ef8>,\n",
       " <Element tr at 0x1d7e50c2f48>,\n",
       " <Element tr at 0x1d7e50c2f98>,\n",
       " <Element tr at 0x1d7e50c3048>,\n",
       " <Element tr at 0x1d7e50c3098>,\n",
       " <Element tr at 0x1d7e50c30e8>,\n",
       " <Element tr at 0x1d7e50c3138>,\n",
       " <Element tr at 0x1d7e50c3188>,\n",
       " <Element tr at 0x1d7e50c31d8>,\n",
       " <Element tr at 0x1d7e50c3228>,\n",
       " <Element tr at 0x1d7e50c3278>,\n",
       " <Element tr at 0x1d7e50c32c8>,\n",
       " <Element tr at 0x1d7e50c3318>,\n",
       " <Element tr at 0x1d7e50c3368>,\n",
       " <Element tr at 0x1d7e50c33b8>,\n",
       " <Element tr at 0x1d7e50c3408>,\n",
       " <Element tr at 0x1d7e50c3458>,\n",
       " <Element tr at 0x1d7e50c34a8>,\n",
       " <Element tr at 0x1d7e50c34f8>,\n",
       " <Element tr at 0x1d7e50c3548>,\n",
       " <Element tr at 0x1d7e50c3598>,\n",
       " <Element tr at 0x1d7e50c35e8>,\n",
       " <Element tr at 0x1d7e50c3638>,\n",
       " <Element tr at 0x1d7e50c3688>,\n",
       " <Element tr at 0x1d7e50c36d8>,\n",
       " <Element tr at 0x1d7e50c3728>,\n",
       " <Element tr at 0x1d7e50c3778>,\n",
       " <Element tr at 0x1d7e50c37c8>,\n",
       " <Element tr at 0x1d7e50c3818>,\n",
       " <Element tr at 0x1d7e50c3868>,\n",
       " <Element tr at 0x1d7e50c38b8>,\n",
       " <Element tr at 0x1d7e50c3908>,\n",
       " <Element tr at 0x1d7e50c3958>,\n",
       " <Element tr at 0x1d7e50c39a8>,\n",
       " <Element tr at 0x1d7e50c39f8>,\n",
       " <Element tr at 0x1d7e50c3a48>,\n",
       " <Element tr at 0x1d7e50c3a98>,\n",
       " <Element tr at 0x1d7e50c3ae8>,\n",
       " <Element tr at 0x1d7e50c3b38>,\n",
       " <Element tr at 0x1d7e50c3b88>,\n",
       " <Element tr at 0x1d7e50c3bd8>,\n",
       " <Element tr at 0x1d7e50c3c28>,\n",
       " <Element tr at 0x1d7e50c3c78>,\n",
       " <Element tr at 0x1d7e50c3cc8>,\n",
       " <Element tr at 0x1d7e50c3d18>,\n",
       " <Element tr at 0x1d7e50c3d68>,\n",
       " <Element tr at 0x1d7e50c3db8>,\n",
       " <Element tr at 0x1d7e50c3e08>,\n",
       " <Element tr at 0x1d7e50c3e58>,\n",
       " <Element tr at 0x1d7e50c3ea8>,\n",
       " <Element tr at 0x1d7e50c3ef8>,\n",
       " <Element tr at 0x1d7e50c3f48>,\n",
       " <Element tr at 0x1d7e50c3f98>,\n",
       " <Element tr at 0x1d7e50c1048>,\n",
       " <Element tr at 0x1d7e50c1098>,\n",
       " <Element tr at 0x1d7e50c10e8>,\n",
       " <Element tr at 0x1d7e50c1138>,\n",
       " <Element tr at 0x1d7e50c1188>,\n",
       " <Element tr at 0x1d7e50c11d8>,\n",
       " <Element tr at 0x1d7e50c1228>,\n",
       " <Element tr at 0x1d7e50c1278>]"
      ]
     },
     "execution_count": 11,
     "metadata": {},
     "output_type": "execute_result"
    }
   ],
   "source": [
    "rows = tables[0].findall('.//tr')\n",
    "rows"
   ]
  },
  {
   "cell_type": "markdown",
   "metadata": {},
   "source": [
    "### 对于标题行和数据行,需要获取每个单元格内的文本.对于标题行,就是th单元格,而对于数据行,则是td单元格"
   ]
  },
  {
   "cell_type": "code",
   "execution_count": 12,
   "metadata": {
    "collapsed": true
   },
   "outputs": [],
   "source": [
    "def _unpack(row,kind='td'):\n",
    "    elts = row.findall('.//%s'%kind)\n",
    "    return [val.text_content() for val in elts]"
   ]
  },
  {
   "cell_type": "code",
   "execution_count": 13,
   "metadata": {
    "collapsed": false
   },
   "outputs": [
    {
     "data": {
      "text/plain": [
       "['Contract Name',\n",
       " 'Last Trade Date',\n",
       " 'Strike',\n",
       " 'Last Price',\n",
       " 'Bid',\n",
       " 'Ask',\n",
       " 'Change',\n",
       " '% Change',\n",
       " 'Volume',\n",
       " 'Open Interest',\n",
       " 'Implied Volatility']"
      ]
     },
     "execution_count": 13,
     "metadata": {},
     "output_type": "execute_result"
    }
   ],
   "source": [
    "_unpack(rows[0],kind='th')"
   ]
  },
  {
   "cell_type": "markdown",
   "metadata": {},
   "source": [
    "### 将数据转换为一个DF,由于数值型数据任然是字符串格式,所以将部分列转换为浮点数格式.可以使用pandas.textparser进行自动类型转换"
   ]
  },
  {
   "cell_type": "code",
   "execution_count": 15,
   "metadata": {
    "collapsed": false
   },
   "outputs": [],
   "source": [
    "from pandas.io.parsers import TextParser\n",
    "def parse_option_data(table):\n",
    "    rows = table.findall('.//tr')\n",
    "    header = _unpack(rows[0],kind='th')\n",
    "    data = [_unpack(r) for r in rows[1:]]\n",
    "    return TextParser(data,names=header).get_chunk()"
   ]
  },
  {
   "cell_type": "markdown",
   "metadata": {},
   "source": [
    "### 对lxml表格对象调用解析函数并得到最终的DF"
   ]
  },
  {
   "cell_type": "code",
   "execution_count": 16,
   "metadata": {
    "collapsed": false
   },
   "outputs": [
    {
     "data": {
      "text/html": [
       "<div>\n",
       "<table border=\"1\" class=\"dataframe\">\n",
       "  <thead>\n",
       "    <tr style=\"text-align: right;\">\n",
       "      <th></th>\n",
       "      <th>Contract Name</th>\n",
       "      <th>Last Trade Date</th>\n",
       "      <th>Strike</th>\n",
       "      <th>Last Price</th>\n",
       "      <th>Bid</th>\n",
       "      <th>Ask</th>\n",
       "      <th>Change</th>\n",
       "      <th>% Change</th>\n",
       "      <th>Volume</th>\n",
       "      <th>Open Interest</th>\n",
       "      <th>Implied Volatility</th>\n",
       "    </tr>\n",
       "  </thead>\n",
       "  <tbody>\n",
       "    <tr>\n",
       "      <th>0</th>\n",
       "      <td>AAPL180119C00002500</td>\n",
       "      <td>2017-12-27 12:39PM EST</td>\n",
       "      <td>2.5</td>\n",
       "      <td>168.04</td>\n",
       "      <td>166.15</td>\n",
       "      <td>167.40</td>\n",
       "      <td>0.00</td>\n",
       "      <td>-</td>\n",
       "      <td>6</td>\n",
       "      <td>3</td>\n",
       "      <td>0.00%</td>\n",
       "    </tr>\n",
       "    <tr>\n",
       "      <th>1</th>\n",
       "      <td>AAPL180119C00005000</td>\n",
       "      <td>2017-11-09 2:55PM EST</td>\n",
       "      <td>5.0</td>\n",
       "      <td>170.37</td>\n",
       "      <td>169.30</td>\n",
       "      <td>170.10</td>\n",
       "      <td>0.00</td>\n",
       "      <td>-</td>\n",
       "      <td>99</td>\n",
       "      <td>0</td>\n",
       "      <td>0.00%</td>\n",
       "    </tr>\n",
       "    <tr>\n",
       "      <th>2</th>\n",
       "      <td>AAPL180119C00010000</td>\n",
       "      <td>2017-11-16 11:06AM EST</td>\n",
       "      <td>10.0</td>\n",
       "      <td>161.00</td>\n",
       "      <td>159.00</td>\n",
       "      <td>161.00</td>\n",
       "      <td>0.00</td>\n",
       "      <td>-</td>\n",
       "      <td>5</td>\n",
       "      <td>5</td>\n",
       "      <td>0.00%</td>\n",
       "    </tr>\n",
       "    <tr>\n",
       "      <th>3</th>\n",
       "      <td>AAPL180119C00017500</td>\n",
       "      <td>2017-11-28 11:15AM EST</td>\n",
       "      <td>17.5</td>\n",
       "      <td>155.83</td>\n",
       "      <td>151.50</td>\n",
       "      <td>152.45</td>\n",
       "      <td>22.98</td>\n",
       "      <td>+17.30%</td>\n",
       "      <td>1</td>\n",
       "      <td>1</td>\n",
       "      <td>0.00%</td>\n",
       "    </tr>\n",
       "    <tr>\n",
       "      <th>4</th>\n",
       "      <td>AAPL180119C00025000</td>\n",
       "      <td>2017-11-09 3:29PM EST</td>\n",
       "      <td>25.0</td>\n",
       "      <td>150.40</td>\n",
       "      <td>149.35</td>\n",
       "      <td>150.15</td>\n",
       "      <td>0.00</td>\n",
       "      <td>-</td>\n",
       "      <td>2,000</td>\n",
       "      <td>0</td>\n",
       "      <td>0.00%</td>\n",
       "    </tr>\n",
       "    <tr>\n",
       "      <th>5</th>\n",
       "      <td>AAPL180119C00035000</td>\n",
       "      <td>2017-11-09 3:29PM EST</td>\n",
       "      <td>35.0</td>\n",
       "      <td>140.50</td>\n",
       "      <td>139.40</td>\n",
       "      <td>140.20</td>\n",
       "      <td>0.00</td>\n",
       "      <td>-</td>\n",
       "      <td>2,000</td>\n",
       "      <td>0</td>\n",
       "      <td>0.00%</td>\n",
       "    </tr>\n",
       "    <tr>\n",
       "      <th>6</th>\n",
       "      <td>AAPL180119C00040000</td>\n",
       "      <td>2017-11-17 11:14AM EST</td>\n",
       "      <td>40.0</td>\n",
       "      <td>130.72</td>\n",
       "      <td>129.10</td>\n",
       "      <td>131.10</td>\n",
       "      <td>-4.73</td>\n",
       "      <td>-3.49%</td>\n",
       "      <td>4</td>\n",
       "      <td>0</td>\n",
       "      <td>0.00%</td>\n",
       "    </tr>\n",
       "    <tr>\n",
       "      <th>7</th>\n",
       "      <td>AAPL180119C00042500</td>\n",
       "      <td>2017-12-19 3:40PM EST</td>\n",
       "      <td>42.5</td>\n",
       "      <td>132.10</td>\n",
       "      <td>131.80</td>\n",
       "      <td>133.25</td>\n",
       "      <td>0.00</td>\n",
       "      <td>-</td>\n",
       "      <td>100</td>\n",
       "      <td>201</td>\n",
       "      <td>0.00%</td>\n",
       "    </tr>\n",
       "    <tr>\n",
       "      <th>8</th>\n",
       "      <td>AAPL180119C00047500</td>\n",
       "      <td>2018-01-02 3:28PM EST</td>\n",
       "      <td>47.5</td>\n",
       "      <td>124.41</td>\n",
       "      <td>127.20</td>\n",
       "      <td>127.85</td>\n",
       "      <td>0.00</td>\n",
       "      <td>-</td>\n",
       "      <td>10</td>\n",
       "      <td>17</td>\n",
       "      <td>0.00%</td>\n",
       "    </tr>\n",
       "    <tr>\n",
       "      <th>9</th>\n",
       "      <td>AAPL180119C00050000</td>\n",
       "      <td>2018-01-12 1:23PM EST</td>\n",
       "      <td>50.0</td>\n",
       "      <td>126.80</td>\n",
       "      <td>126.75</td>\n",
       "      <td>127.30</td>\n",
       "      <td>1.65</td>\n",
       "      <td>+1.32%</td>\n",
       "      <td>70</td>\n",
       "      <td>720</td>\n",
       "      <td>478.13%</td>\n",
       "    </tr>\n",
       "  </tbody>\n",
       "</table>\n",
       "</div>"
      ],
      "text/plain": [
       "         Contract Name         Last Trade Date  Strike  Last Price     Bid  \\\n",
       "0  AAPL180119C00002500  2017-12-27 12:39PM EST     2.5      168.04  166.15   \n",
       "1  AAPL180119C00005000   2017-11-09 2:55PM EST     5.0      170.37  169.30   \n",
       "2  AAPL180119C00010000  2017-11-16 11:06AM EST    10.0      161.00  159.00   \n",
       "3  AAPL180119C00017500  2017-11-28 11:15AM EST    17.5      155.83  151.50   \n",
       "4  AAPL180119C00025000   2017-11-09 3:29PM EST    25.0      150.40  149.35   \n",
       "5  AAPL180119C00035000   2017-11-09 3:29PM EST    35.0      140.50  139.40   \n",
       "6  AAPL180119C00040000  2017-11-17 11:14AM EST    40.0      130.72  129.10   \n",
       "7  AAPL180119C00042500   2017-12-19 3:40PM EST    42.5      132.10  131.80   \n",
       "8  AAPL180119C00047500   2018-01-02 3:28PM EST    47.5      124.41  127.20   \n",
       "9  AAPL180119C00050000   2018-01-12 1:23PM EST    50.0      126.80  126.75   \n",
       "\n",
       "      Ask  Change % Change Volume Open Interest Implied Volatility  \n",
       "0  167.40    0.00        -      6             3              0.00%  \n",
       "1  170.10    0.00        -     99             0              0.00%  \n",
       "2  161.00    0.00        -      5             5              0.00%  \n",
       "3  152.45   22.98  +17.30%      1             1              0.00%  \n",
       "4  150.15    0.00        -  2,000             0              0.00%  \n",
       "5  140.20    0.00        -  2,000             0              0.00%  \n",
       "6  131.10   -4.73   -3.49%      4             0              0.00%  \n",
       "7  133.25    0.00        -    100           201              0.00%  \n",
       "8  127.85    0.00        -     10            17              0.00%  \n",
       "9  127.30    1.65   +1.32%     70           720            478.13%  "
      ]
     },
     "execution_count": 16,
     "metadata": {},
     "output_type": "execute_result"
    }
   ],
   "source": [
    "call_data = parse_option_data(tables[0])\n",
    "put_data = parse_option_data(tables[1])\n",
    "call_data[:10]"
   ]
  },
  {
   "cell_type": "code",
   "execution_count": null,
   "metadata": {
    "collapsed": true
   },
   "outputs": [],
   "source": []
  },
  {
   "cell_type": "code",
   "execution_count": null,
   "metadata": {
    "collapsed": true
   },
   "outputs": [],
   "source": []
  },
  {
   "cell_type": "code",
   "execution_count": null,
   "metadata": {
    "collapsed": true
   },
   "outputs": [],
   "source": []
  }
 ],
 "metadata": {
  "kernelspec": {
   "display_name": "Python 3",
   "language": "python",
   "name": "python3"
  },
  "language_info": {
   "codemirror_mode": {
    "name": "ipython",
    "version": 3
   },
   "file_extension": ".py",
   "mimetype": "text/x-python",
   "name": "python",
   "nbconvert_exporter": "python",
   "pygments_lexer": "ipython3",
   "version": "3.6.0"
  }
 },
 "nbformat": 4,
 "nbformat_minor": 2
}
